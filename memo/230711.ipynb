{
 "cells": [
  {
   "attachments": {},
   "cell_type": "markdown",
   "metadata": {},
   "source": [
    "# 직각삼각형 \n",
    "https://www.acmicpc.net/problem/4153"
   ]
  },
  {
   "cell_type": "code",
   "execution_count": 8,
   "metadata": {
    "vscode": {
     "languageId": "rust"
    }
   },
   "outputs": [
    {
     "name": "stdout",
     "output_type": "stream",
     "text": [
      "right\n"
     ]
    }
   ],
   "source": [
    "fn 직각삼각형(numbersString:&str){\n",
    "    //입력 문자열을 숫자벡터로 파싱하여 저장 \n",
    "    let mut numbers: Vec<i32> = numbersString\n",
    "        .split_whitespace()\n",
    "        .map(|x| x.parse().unwrap())\n",
    "        .collect();\n",
    "\n",
    "    //정렬\n",
    "    numbers.sort();\n",
    "\n",
    "    let num1 = numbers[0];\n",
    "    let num2 = numbers[1];\n",
    "    let num3 = numbers[2];\n",
    "\n",
    "    if num1 == 0 || num2 == 0 || num3 == 0 {\n",
    "        println!(\"{}\",\"\");\n",
    "    }else{\n",
    "        if num3*num3 == num2*num2 + num1*num1{\n",
    "            println!(\"{}\",\"right\");\n",
    "        }else{\n",
    "            println!(\"{}\",\"wrong\"); \n",
    "        }\n",
    "    }     \n",
    "}\n",
    "\n",
    "직각삼각형(\"3 4 5\");"
   ]
  },
  {
   "attachments": {},
   "cell_type": "markdown",
   "metadata": {},
   "source": [
    "# 블랙잭\n",
    "https://www.acmicpc.net/problem/2798\n",
    "\n",
    "입력: \n",
    "    - 첫째 줄에 카드의 개수 N(3 ≤ N ≤ 100)과 M(10 ≤ M ≤ 300,000)이 주어진다. \n",
    "    - 둘째 줄에는 카드에 쓰여 있는 수가 주어지며, 이 값은 100,000을 넘지 않는 양의 정수이다.\n",
    "    - 합이 M을 넘지 않는 카드 3장을 찾을 수 있는 경우만 입력으로 주어진다.\n",
    "출력:  M을 넘지 않으면서 M에 최대한 가까운 카드 3장의 합"
   ]
  },
  {
   "attachments": {},
   "cell_type": "markdown",
   "metadata": {},
   "source": [
    "## 방법1\n",
    "for loop으로 배열 내에서 세 원소의 합을 계산 한 후, M보다 작거나 같은 값 중 가장 큰 값 return"
   ]
  },
  {
   "cell_type": "code",
   "execution_count": null,
   "metadata": {
    "vscode": {
     "languageId": "rust"
    }
   },
   "outputs": [],
   "source": [
    "use std::io;\n",
    "\n",
    "fn main() {\n",
    "    //준비\n",
    "    let mut condition = String::new();\n",
    "    let mut numbers = String::new();\n",
    "\n",
    "    io::stdin().read_line(&mut condition).unwrap();\n",
    "    io::stdin().read_line(&mut numbers).unwrap();\n",
    "\n",
    "    let condition: Vec<i32> = condition\n",
    "        .split_whitespace()\n",
    "        .map(|x| x.parse().unwrap())\n",
    "        .collect();\n",
    "\n",
    "    let N: i32 = condition[0];\n",
    "    let M: i32 = condition[1];\n",
    "\n",
    "    let mut numbers: Vec<i32> = numbers\n",
    "        .split_whitespace()\n",
    "        .map(|x| x.parse().unwrap())\n",
    "        .collect();\n",
    "\n",
    "    numbers.sort();\n",
    "    numbers.reverse();\n",
    "    // println!(\"{:?}\", &numbers);\n",
    "\n",
    "    //시작!\n",
    "    //숫자배열에 M보다 큰 값이 있는 경우는 고려하지 않아도 됨.\n",
    "    let mut i: i32 = 0;\n",
    "    for num in &numbers {\n",
    "        if num <= &M {\n",
    "            break;\n",
    "        } else {\n",
    "            i += 1;\n",
    "        }\n",
    "    }\n",
    "\n",
    "    let target = &numbers[i as usize..];\n",
    "    let mut result: i32 = 0;\n",
    "    // println!(\"{:?}\", target);\n",
    "\n",
    "    for i in 0..(target.len() - 2) {\n",
    "        for j in (i + 1)..(target.len() - 1) {\n",
    "            for k in (j + 1)..target.len() {\n",
    "                let sum: i32 = target[i] + target[j] + target[k];\n",
    "                if sum > M {\n",
    "                    continue;\n",
    "                } else {\n",
    "                    result = std::cmp::max(result, sum);\n",
    "                    if (sum == M) {\n",
    "                        break;\n",
    "                    }\n",
    "                }\n",
    "            }\n",
    "        }\n",
    "    }\n",
    "    println!(\"{}\", result);\n",
    "}\n"
   ]
  },
  {
   "attachments": {},
   "cell_type": "markdown",
   "metadata": {},
   "source": [
    "후기: \n",
    "- 러스트는 타입에 정말 말도안되게 집착하는구나..\n",
    "    - 다른 타입 (i32, i64)사이에 비교 불가능. \n",
    "    - 슬라이싱 할 때 usize로 받음. \n",
    "        `let target = &numbers[i as usize..];`\n",
    "- sort, reverse괜히 한건가 고민됨. 숫자배열에 M보다 큰 값들은 for loop 돌때 포함 안시키려고 그런건데... 흠..\n",
    "    - 큰 수부터 덧셈하니 원하는 결과가 빨리나올것같은데, 좀 더 빨리 끝내는 방법 없을까?\n",
    "- for loop사용법, 언제 참조하는지 약간 익숙해진것같다.     \n"
   ]
  },
  {
   "attachments": {},
   "cell_type": "markdown",
   "metadata": {},
   "source": [
    "## 방법2 combination"
   ]
  }
 ],
 "metadata": {
  "kernelspec": {
   "display_name": "Rust",
   "language": "rust",
   "name": "rust"
  },
  "language_info": {
   "codemirror_mode": "rust",
   "file_extension": ".rs",
   "mimetype": "text/rust",
   "name": "Rust",
   "pygment_lexer": "rust",
   "version": ""
  },
  "orig_nbformat": 4
 },
 "nbformat": 4,
 "nbformat_minor": 2
}
