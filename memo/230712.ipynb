{
 "cells": [
  {
   "attachments": {},
   "cell_type": "markdown",
   "metadata": {},
   "source": [
    "# 평균 \n",
    "https://www.acmicpc.net/problem/1546\n",
    "\n",
    "양아치의 평균구하기 방식"
   ]
  },
  {
   "cell_type": "code",
   "execution_count": null,
   "metadata": {},
   "outputs": [],
   "source": [
    "use std::io;\n",
    "\n",
    "fn main() {\n",
    "    //준비\n",
    "    let mut num_subject = String::new();\n",
    "    let mut scores = String::new();\n",
    "\n",
    "    io::stdin().read_line(&mut num_subject).unwrap();\n",
    "    io::stdin().read_line(&mut scores).unwrap();\n",
    "\n",
    "    let num_subject: Vec<&str> = num_subject.split_whitespace().collect();\n",
    "    let num_subject = num_subject[0].parse::<f32>().unwrap();\n",
    "\n",
    "    let mut scores: Vec<i16> = scores\n",
    "        .split_whitespace()\n",
    "        .map(|x| x.parse().unwrap())\n",
    "        .collect();\n",
    "\n",
    "    scores.sort();\n",
    "\n",
    "    let max_score: i16 = scores[scores.len() - 1];\n",
    "    let mut new_scores: Vec<f32> = vec![];\n",
    "\n",
    "    for score in scores {\n",
    "        // if (score == max_score) {\n",
    "        //     new_scores.push(max_score as f32);\n",
    "        //     break;\n",
    "        // }\n",
    "        let mut new_score: f32 = (score as f32) / (max_score as f32) * 100.0;\n",
    "        new_scores.push(new_score);\n",
    "    }\n",
    "\n",
    "    let sum: f32 = new_scores.iter().sum();\n",
    "\n",
    "    println!(\"{:?}\", sum / num_subject);\n",
    "}\n"
   ]
  },
  {
   "attachments": {},
   "cell_type": "markdown",
   "metadata": {},
   "source": [
    "- 타입때문에 정신이 혼미했다. \n",
    "- for score in scores에서 scores를 빌려오면 (&stores) score과 max_score의 타입이 달라 비교 불가.\n",
    "    - (score 자체와 score를 빌려온것의 타입은 다름. )\n",
    "    - score as f32 역시 불가능. &A를 A로 변환할 수 없음. \n",
    "        - score를 deref한 후엔 as로 형변환 할 수 있음. \n",
    "- scores를 <i16>이 아닌 <f32>로 저장하고싶었지만, f32는 sort함수 사용 불가. \n"
   ]
  },
  {
   "attachments": {},
   "cell_type": "markdown",
   "metadata": {},
   "source": [
    "# 펠린드롬수\n",
    "https://www.acmicpc.net/problem/1259\n",
    "12121"
   ]
  },
  {
   "cell_type": "code",
   "execution_count": null,
   "metadata": {},
   "outputs": [],
   "source": [
    "use std::io;\n",
    "\n",
    "fn main() {\n",
    "    loop {\n",
    "        //준비\n",
    "        let mut number = String::new();\n",
    "\n",
    "        io::stdin().read_line(&mut number).unwrap();\n",
    "        number = number.trim().to_string(); // 개행 문자 제거\n",
    "\n",
    "        if number.parse::<i16>() == Ok(0) {\n",
    "            //입력된 문자열을 i16로 변환한 결과가 0인지 확인\n",
    "            break;\n",
    "        }\n",
    "\n",
    "        //시작\n",
    "\n",
    "        let reversed: String = number.chars().rev().collect();\n",
    "\n",
    "        if number == reversed {\n",
    "            println!(\"yes\");\n",
    "        } else {\n",
    "            println!(\"no\");\n",
    "        }\n",
    "    }\n",
    "}"
   ]
  },
  {
   "attachments": {},
   "cell_type": "markdown",
   "metadata": {},
   "source": [
    "- read_line() 메서드는 입력 문자열에 개행 문자('\\n')를 포함하므로, trim() 메서드로 제거.\n",
    "- number.parse::<i16>()는 타입 변환에 성공하면 OK(입력받은값)을 리턴한다. 따라서, 그냥 0이 아닌 Ok(0)과 사용자의 입력을 비교해야한다. "
   ]
  },
  {
   "attachments": {},
   "cell_type": "markdown",
   "metadata": {},
   "source": [
    "# 마인크레프트\n",
    "https://www.acmicpc.net/problem/18111\n",
    "\n",
    "땅의 높이를 모두 동일하게 만들자. \n",
    "\n",
    "몫부터 최댓값까지 검사. "
   ]
  },
  {
   "attachments": {},
   "cell_type": "markdown",
   "metadata": {},
   "source": []
  }
 ],
 "metadata": {
  "language_info": {
   "name": "python"
  },
  "orig_nbformat": 4
 },
 "nbformat": 4,
 "nbformat_minor": 2
}
